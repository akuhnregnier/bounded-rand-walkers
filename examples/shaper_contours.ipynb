{
 "cells": [
  {
   "cell_type": "code",
   "execution_count": null,
   "metadata": {},
   "outputs": [],
   "source": [
    "from functools import partial\n",
    "from pathlib import Path\n",
    "\n",
    "import matplotlib as mpl\n",
    "import matplotlib.pyplot as plt\n",
    "import numpy as np\n",
    "\n",
    "from bounded_rand_walkers.shaper_general import circle_shaper, square_shaper\n",
    "\n",
    "mpl.rc_file(\"matplotlibrc\")\n",
    "\n",
    "Path(\"plots\").mkdir(exist_ok=True)"
   ]
  },
  {
   "cell_type": "code",
   "execution_count": null,
   "metadata": {},
   "outputs": [],
   "source": [
    "for shaper_func, name, lim, levels in zip(\n",
    "    [partial(square_shaper, side_length=1), circle_shaper],\n",
    "    [\"square_contour\", \"circle_contour\"],\n",
    "    [1.1, 2.2],\n",
    "    [np.arange(0, 1, 0.2), np.arange(0, 4, 0.5)],\n",
    "):\n",
    "    n_bins = 300\n",
    "    xlim = ylim = (-lim, lim)\n",
    "    grid_x, grid_y = np.meshgrid(np.linspace(*xlim, n_bins), np.linspace(*ylim, n_bins))\n",
    "    shaper = shaper_func(grid_x, grid_y)\n",
    "\n",
    "    fig, ax = plt.subplots(figsize=(2.6, 2.3))\n",
    "\n",
    "    CS = ax.contour(grid_x, grid_y, shaper, levels=levels, colors=\"C0\")\n",
    "    ax.clabel(CS, levels, fmt=\"%1.1f\")\n",
    "    ax.axis(\"scaled\")\n",
    "    ax.set_xlabel(r\"$\\ell_x$\")\n",
    "    ax.set_ylabel(r\"$\\ell_y$\")\n",
    "\n",
    "    # Hide the spinese on the right and top.\n",
    "    ax.spines[\"right\"].set_visible(False)\n",
    "    ax.spines[\"top\"].set_visible(False)\n",
    "\n",
    "    fig.savefig((Path(\"plots\") / name).with_suffix(\".pdf\"))"
   ]
  }
 ],
 "metadata": {
  "kernelspec": {
   "display_name": "Python 3",
   "language": "python",
   "name": "python3"
  }
 },
 "nbformat": 4,
 "nbformat_minor": 4
}
