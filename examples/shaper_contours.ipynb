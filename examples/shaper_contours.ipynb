{
 "cells": [
  {
   "cell_type": "code",
   "execution_count": null,
   "metadata": {},
   "outputs": [],
   "source": [
    "from functools import partial\n",
    "from pathlib import Path\n",
    "\n",
    "import matplotlib.pyplot as plt\n",
    "import numpy as np\n",
    "\n",
    "from bounded_rand_walkers.shaper_general import circle_shaper, square_shaper\n",
    "\n",
    "Path(\"plots\").mkdir(exist_ok=True)"
   ]
  },
  {
   "cell_type": "code",
   "execution_count": null,
   "metadata": {},
   "outputs": [],
   "source": [
    "for shaper_func, name in zip(\n",
    "    [square_shaper, circle_shaper], [\"square_contour\", \"circle_contour\"]\n",
    "):\n",
    "    n_bins = 300\n",
    "    lim = 2.2\n",
    "    xlim = ylim = (-lim, lim)\n",
    "    grid_x, grid_y = np.meshgrid(np.linspace(*xlim, n_bins), np.linspace(*ylim, n_bins))\n",
    "    shaper = shaper_func(grid_x, grid_y)\n",
    "\n",
    "    fig, ax = plt.subplots(figsize=(4, 4))\n",
    "\n",
    "    levels = np.arange(0, 4, 0.5)\n",
    "\n",
    "    CS = ax.contour(grid_x, grid_y, shaper, levels=levels, colors=\"C0\")\n",
    "    ax.clabel(CS, levels)\n",
    "    ax.axis(\"scaled\")\n",
    "    ax.set_xlabel(r\"$\\ell_x$\")\n",
    "    ax.set_ylabel(r\"$\\ell_y$\")\n",
    "    fig.savefig((Path(\"plots\") / name).with_suffix(\".pdf\"), bbox_inches=\"tight\")"
   ]
  }
 ],
 "metadata": {
  "kernelspec": {
   "display_name": "Python 3",
   "language": "python",
   "name": "python3"
  }
 },
 "nbformat": 4,
 "nbformat_minor": 4
}
