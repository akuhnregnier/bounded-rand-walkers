{
 "cells": [
  {
   "cell_type": "code",
   "execution_count": 1,
   "metadata": {},
   "outputs": [],
   "source": [
    "import matplotlib as mpl\n",
    "import matplotlib.pyplot as plt\n",
    "import numpy as np\n",
    "from scipy.integrate import quad\n",
    "from tqdm.auto import tqdm\n",
    "\n",
    "from bounded_rand_walkers.cpp.boundaries import bound_map, get_max_step\n",
    "from bounded_rand_walkers.shaper_generation import (\n",
    "    adaptive_simpsons,\n",
    "    rotation,\n",
    "    shaper_map,\n",
    ")\n",
    "\n",
    "mpl.rc_file(\"matplotlibrc\")"
   ]
  },
  {
   "cell_type": "code",
   "execution_count": 2,
   "metadata": {},
   "outputs": [
    {
     "data": {
      "application/vnd.jupyter.widget-view+json": {
       "model_id": "09f59d8195df4d08a3b548270aa61714",
       "version_major": 2,
       "version_minor": 0
      },
      "text/plain": [
       "HBox(children=(FloatProgress(value=0.0, description='Calculating step sizes', max=6.0, style=ProgressStyle(des\u2026"
      ]
     },
     "metadata": {},
     "output_type": "display_data"
    },
    {
     "name": "stdout",
     "output_type": "stream",
     "text": [
      "\n",
      "Max step: 1.4142135624\n"
     ]
    }
   ],
   "source": [
    "bound_name = \"square\"\n",
    "assert bound_name in bound_map\n",
    "assert bound_name in shaper_map\n",
    "\n",
    "shaper_xy_func = shaper_map[bound_name][\"x_y_function\"]\n",
    "\n",
    "max_step = get_max_step(bound_name)\n",
    "print(f\"Max step: {max_step:0.10f}\")\n",
    "\n",
    "\n",
    "def get_integrand(r):\n",
    "    def to_int(theta):\n",
    "        return shaper_xy_func(*rotation(r, 0, theta))\n",
    "\n",
    "    return to_int"
   ]
  },
  {
   "cell_type": "code",
   "execution_count": 3,
   "metadata": {},
   "outputs": [],
   "source": [
    "results = {}\n",
    "radii = np.linspace(max_step - 1e-4, max_step, 20)"
   ]
  },
  {
   "cell_type": "code",
   "execution_count": 4,
   "metadata": {},
   "outputs": [
    {
     "name": "stdout",
     "output_type": "stream",
     "text": [
      "CPU times: user 8.79 ms, sys: 196 \u00b5s, total: 8.99 ms\n",
      "Wall time: 10.2 ms\n"
     ]
    }
   ],
   "source": [
    "%%time\n",
    "results[\"quad\"] = []\n",
    "for r in radii:\n",
    "    to_int = get_integrand(r)\n",
    "    results[\"quad\"].append(quad(to_int, 0, 2 * np.pi)[0])"
   ]
  },
  {
   "cell_type": "code",
   "execution_count": 5,
   "metadata": {},
   "outputs": [
    {
     "data": {
      "application/vnd.jupyter.widget-view+json": {
       "model_id": "0e5859593d8640009951b00c9f6d603c",
       "version_major": 2,
       "version_minor": 0
      },
      "text/plain": [
       "HBox(children=(FloatProgress(value=0.0, max=20.0), HTML(value='')))"
      ]
     },
     "metadata": {},
     "output_type": "display_data"
    },
    {
     "name": "stdout",
     "output_type": "stream",
     "text": [
      "\n",
      "CPU times: user 43.8 ms, sys: 0 ns, total: 43.8 ms\n",
      "Wall time: 52.7 ms\n"
     ]
    }
   ],
   "source": [
    "%%time\n",
    "results[\"custom\"] = []\n",
    "for r in tqdm(radii):\n",
    "    to_int = get_integrand(r)\n",
    "    results[\"custom\"].append(\n",
    "        adaptive_simpsons(to_int, 0, 2 * np.pi, n_start=1000, vec_func=True)\n",
    "    )"
   ]
  },
  {
   "cell_type": "code",
   "execution_count": 6,
   "metadata": {},
   "outputs": [
    {
     "data": {
      "application/vnd.jupyter.widget-view+json": {
       "model_id": "5257caeca3914b91b14de208905e91ad",
       "version_major": 2,
       "version_minor": 0
      },
      "text/plain": [
       "HBox(children=(FloatProgress(value=0.0, max=20.0), HTML(value='')))"
      ]
     },
     "metadata": {},
     "output_type": "display_data"
    },
    {
     "name": "stdout",
     "output_type": "stream",
     "text": [
      "\n",
      "CPU times: user 28.4 ms, sys: 0 ns, total: 28.4 ms\n",
      "Wall time: 38.5 ms\n"
     ]
    }
   ],
   "source": [
    "%%time\n",
    "results[\"midpoint\"] = []\n",
    "for r in tqdm(radii):\n",
    "    to_int = get_integrand(r)\n",
    "    results[\"midpoint\"].append(np.mean(to_int(np.linspace(0, 2 * np.pi, 1000))))"
   ]
  },
  {
   "cell_type": "code",
   "execution_count": 7,
   "metadata": {},
   "outputs": [
    {
     "data": {
      "image/png": "[encoded data removed]",
      "text/plain": [
       "<Figure size 297x252 with 1 Axes>"
      ]
     },
     "metadata": {},
     "output_type": "display_data"
    }
   ],
   "source": [
    "for ((method, vals), marker, ls) in zip(\n",
    "    results.items(), [\"o\", \"^\", \"x\", \"|\"], [\"-\", \"--\", \":\", \"-.\"]\n",
    "):\n",
    "    plt.plot(radii, vals, label=method, marker=marker, ls=ls)\n",
    "plt.xlabel(\"radius\")\n",
    "plt.ylabel(\"integral\")\n",
    "_ = plt.legend()"
   ]
  }
 ],
 "metadata": {
  "kernelspec": {
   "display_name": "Python 3",
   "language": "python",
   "name": "python3"
  },
  "language_info": {
   "codemirror_mode": {
    "name": "ipython",
    "version": 3
   },
   "file_extension": ".py",
   "mimetype": "text/x-python",
   "name": "python",
   "nbconvert_exporter": "python",
   "pygments_lexer": "ipython3",
   "version": "3.8.5"
  }
 },
 "nbformat": 4,
 "nbformat_minor": 4
}
