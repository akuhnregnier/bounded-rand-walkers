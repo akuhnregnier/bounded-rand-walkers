{
 "cells": [
  {
   "cell_type": "code",
   "execution_count": null,
   "metadata": {},
   "outputs": [],
   "source": [
    "from functools import partial\n",
    "\n",
    "import matplotlib as mpl\n",
    "import matplotlib.pyplot as plt\n",
    "import numpy as np\n",
    "from scipy.integrate import dblquad\n",
    "from scipy.interpolate import RegularGridInterpolator\n",
    "from tqdm.auto import tqdm\n",
    "\n",
    "from bounded_rand_walkers.cpp import (\n",
    "    bound_map,\n",
    "    funky,\n",
    "    generate_data,\n",
    "    get_binned_2D,\n",
    "    get_binned_data,\n",
    "    get_cached_filename,\n",
    ")\n",
    "from bounded_rand_walkers.data_generation import Delaunay, DelaunayArray, in_bounds\n",
    "from bounded_rand_walkers.rad_interp import (\n",
    "    exact_radii_interp,\n",
    "    inv_exact_radii_interp,\n",
    "    rotation,\n",
    ")\n",
    "from bounded_rand_walkers.relief_matrix_shaper import gen_shaper2D\n",
    "from bounded_rand_walkers.rotation_steps import get_pdf_transform_shaper\n",
    "from bounded_rand_walkers.shaper_general import (\n",
    "    gen_rad_shaper,\n",
    "    gen_rad_shaper_exact,\n",
    "    shaper_map,\n",
    ")\n",
    "from bounded_rand_walkers.utils import approx_edges, cache_dir, get_centres, normalise\n",
    "\n",
    "mpl.rc_file(\"matplotlibrc\")"
   ]
  },
  {
   "cell_type": "code",
   "execution_count": null,
   "metadata": {},
   "outputs": [],
   "source": [
    "# XXX:\n",
    "import pandas as pd"
   ]
  },
  {
   "cell_type": "markdown",
   "metadata": {},
   "source": [
    "### Calculate the shaper function using 2D approach and compare to the analytical function"
   ]
  },
  {
   "cell_type": "markdown",
   "metadata": {},
   "source": [
    "#### Investigate ideal binning parameters for 2D → radial interpolation"
   ]
  },
  {
   "cell_type": "code",
   "execution_count": null,
   "metadata": {},
   "outputs": [],
   "source": [
    "bound_name = \"square\"\n",
    "\n",
    "vertices = bound_map[bound_name]()\n",
    "lim = 1.5\n",
    "\n",
    "\n",
    "def add_one(x):\n",
    "    x = x.reshape(1, -1)\n",
    "    return np.vstack((x, x + 1)).ravel()\n",
    "\n",
    "\n",
    "mses = {}\n",
    "bmses = {}\n",
    "for n_bins in tqdm(np.unique(add_one(np.linspace(41, 201, 50, dtype=np.int64)))):\n",
    "    f_t_x_edges = f_t_y_edges = np.linspace(-lim, lim, n_bins + 1)\n",
    "    f_t_x_centres = f_t_y_centres = get_centres(f_t_x_edges)\n",
    "\n",
    "    num_2d_shaper = gen_shaper2D(vertices, f_t_x_edges, f_t_y_edges, verbose=False)\n",
    "\n",
    "    mses[n_bins] = {}\n",
    "    bmses[n_bins] = {}\n",
    "\n",
    "    for mode in range(1, 4):\n",
    "        radii, radial_shaper = exact_radii_interp(\n",
    "            num_2d_shaper,\n",
    "            f_t_x_centres,\n",
    "            f_t_y_centres,\n",
    "            normalisation=\"multiply\",\n",
    "            bin_samples=0.05,\n",
    "            mode=mode,\n",
    "        )\n",
    "        # Calculate the shaper function explicitly at multiple radii.\n",
    "        analytical_shaper = gen_rad_shaper_exact(\n",
    "            radii,\n",
    "            vertices=bound_name if bound_name in bound_map else vertices,\n",
    "            verbose=False,\n",
    "        )\n",
    "        analytical_shaper *= radii\n",
    "\n",
    "        # Align the two.\n",
    "        z_mask = ~(np.isclose(radial_shaper, 0) | np.isclose(analytical_shaper, 0))\n",
    "        analytical_shaper *= np.nanmean(\n",
    "            radial_shaper[z_mask] / analytical_shaper[z_mask]\n",
    "        )\n",
    "\n",
    "        # Compute mse.\n",
    "        mses[n_bins][mode] = np.mean((analytical_shaper - radial_shaper) ** 2)\n",
    "\n",
    "        # Same computation for l > 0.5\n",
    "        mask = radii > 0.5\n",
    "        radii = radii[mask]\n",
    "        radial_shaper = radial_shaper[mask]\n",
    "        analytical_shaper = analytical_shaper[mask]\n",
    "\n",
    "        z_mask = ~(np.isclose(radial_shaper, 0) | np.isclose(analytical_shaper, 0))\n",
    "        analytical_shaper *= np.nanmean(\n",
    "            radial_shaper[z_mask] / analytical_shaper[z_mask]\n",
    "        )\n",
    "        bmses[n_bins][mode] = np.mean((analytical_shaper - radial_shaper) ** 2)"
   ]
  },
  {
   "cell_type": "code",
   "execution_count": null,
   "metadata": {},
   "outputs": [],
   "source": [
    "df1 = pd.DataFrame(mses).T\n",
    "df1[\"cat\"] = \"all\"\n",
    "df2 = pd.DataFrame(bmses).T\n",
    "df2[\"cat\"] = \"high\""
   ]
  },
  {
   "cell_type": "code",
   "execution_count": null,
   "metadata": {},
   "outputs": [],
   "source": [
    "df1.describe()"
   ]
  },
  {
   "cell_type": "code",
   "execution_count": null,
   "metadata": {},
   "outputs": [],
   "source": [
    "df2.describe()"
   ]
  },
  {
   "cell_type": "code",
   "execution_count": null,
   "metadata": {},
   "outputs": [],
   "source": [
    "df = pd.concat((df1, df2))"
   ]
  },
  {
   "cell_type": "code",
   "execution_count": null,
   "metadata": {},
   "outputs": [],
   "source": [
    "fig, axes = plt.subplots(1, 2, figsize=(14, 4))\n",
    "plot_df = df.sort_index()\n",
    "for ax in axes:\n",
    "    for col in [1, 2, 3]:\n",
    "        ax.plot(plot_df.index.values, plot_df[col].values, label=col, marker=\"x\")\n",
    "axes[0].set_ylim(0, 0.003)\n",
    "_ = axes[0].legend(loc=\"best\")"
   ]
  },
  {
   "cell_type": "code",
   "execution_count": null,
   "metadata": {},
   "outputs": [],
   "source": [
    "df[\"odd\"] = df.index.values % 2 == 1\n",
    "df.head()"
   ]
  },
  {
   "cell_type": "code",
   "execution_count": null,
   "metadata": {},
   "outputs": [],
   "source": [
    "groupby = df.groupby([\"odd\", \"cat\"])\n",
    "fig, axes = plt.subplots(2, len(groupby), sharex=True, figsize=(18, 10), sharey=\"row\")\n",
    "\n",
    "for ((name, grouped), axes) in zip(groupby, axes.T):\n",
    "    for ax, b in zip(axes, [True, False]):\n",
    "        grouped[[1, 2, 3]].boxplot(ax=ax, showfliers=b)\n",
    "        ax.set_title(name)\n",
    "\n",
    "fig.tight_layout()"
   ]
  },
  {
   "cell_type": "markdown",
   "metadata": {},
   "source": [
    "### Actually calculate the shaper function both ways"
   ]
  },
  {
   "cell_type": "code",
   "execution_count": null,
   "metadata": {},
   "outputs": [],
   "source": [
    "bound_name = \"square\"\n",
    "\n",
    "vertices = bound_map[bound_name]()\n",
    "\n",
    "n_bins = 21\n",
    "lim = 1.5\n",
    "f_t_x_edges = f_t_y_edges = np.linspace(-lim, lim, n_bins + 1)\n",
    "f_t_x_centres = f_t_y_centres = get_centres(f_t_x_edges)\n",
    "\n",
    "num_2d_shaper = gen_shaper2D(vertices, f_t_x_edges, f_t_y_edges)\n",
    "\n",
    "plt.figure()\n",
    "plt.pcolormesh(f_t_x_edges, f_t_y_edges, num_2d_shaper)\n",
    "plt.axis(\"scaled\")\n",
    "plt.colorbar()\n",
    "_ = plt.title(\"Gridded Shaper\")\n",
    "\n",
    "# Extract shaper from 2D shaper values.\n",
    "radii, radial_shaper = exact_radii_interp(\n",
    "    num_2d_shaper,\n",
    "    f_t_x_centres,\n",
    "    f_t_y_centres,\n",
    "    normalisation=\"multiply\",\n",
    "    bin_samples=0.05,\n",
    ")\n",
    "\n",
    "radii2, radial_shaper2 = exact_radii_interp(\n",
    "    num_2d_shaper,\n",
    "    f_t_x_centres,\n",
    "    f_t_y_centres,\n",
    "    normalisation=\"multiply\",\n",
    "    bin_samples=None,\n",
    ")\n",
    "\n",
    "# Calculate the shaper function explicitly at multiple radii.\n",
    "shaper_radii = np.linspace(0, np.max(radii), 100)\n",
    "shaper_rad = gen_rad_shaper_exact(\n",
    "    shaper_radii, vertices=bound_name if bound_name in bound_map else vertices\n",
    ")\n",
    "\n",
    "plt.figure(figsize=(15, 8))\n",
    "\n",
    "plt.plot(\n",
    "    radii, normalise(radii, radial_shaper), label=\"Radially interpolated\", marker=\"x\"\n",
    ")\n",
    "plt.plot(\n",
    "    radii2,\n",
    "    normalise(radii2, radial_shaper2),\n",
    "    label=\"Raw interpolated\",\n",
    "    marker=\"x\",\n",
    "    linestyle=\"\",\n",
    ")\n",
    "plt.plot(\n",
    "    shaper_radii,\n",
    "    normalise(shaper_radii, shaper_rad * shaper_radii),\n",
    "    label=\"Analytical\",\n",
    ")\n",
    "plt.legend(loc=\"best\")\n",
    "_ = plt.title(f\"Shaper - {bound_name}\")"
   ]
  },
  {
   "cell_type": "markdown",
   "metadata": {},
   "source": [
    "### Calculate the shaper function using 2D approach for the weird boundary"
   ]
  },
  {
   "cell_type": "code",
   "execution_count": null,
   "metadata": {},
   "outputs": [],
   "source": [
    "bound_name = \"weird\"\n",
    "\n",
    "vertices = bound_map[bound_name]()\n",
    "\n",
    "n_bins = 200\n",
    "lim = 1.5\n",
    "f_t_x_edges = f_t_y_edges = np.linspace(-lim, lim, n_bins + 1)\n",
    "f_t_x_centres = f_t_y_centres = get_centres(f_t_x_edges)\n",
    "\n",
    "num_2d_shaper = gen_shaper2D(vertices, f_t_x_edges, f_t_y_edges)\n",
    "\n",
    "plt.figure()\n",
    "plt.pcolormesh(f_t_x_edges, f_t_y_edges, num_2d_shaper)\n",
    "plt.axis(\"scaled\")\n",
    "plt.colorbar()\n",
    "_ = plt.title(\"Gridded Shaper\")\n",
    "\n",
    "# Extract shaper from 2D shaper values.\n",
    "radii, radial_shaper = exact_radii_interp(\n",
    "    num_2d_shaper, f_t_x_centres, f_t_y_centres, normalisation=\"multiply\"\n",
    ")\n",
    "\n",
    "plt.figure()\n",
    "plt.plot(radii, normalise(radii, radial_shaper), label=\"Radially interpolated\")\n",
    "plt.legend(loc=\"best\")\n",
    "_ = plt.title(f\"Shaper - {bound_name}\")"
   ]
  }
 ],
 "metadata": {
  "kernelspec": {
   "display_name": "Python 3",
   "language": "python",
   "name": "python3"
  }
 },
 "nbformat": 4,
 "nbformat_minor": 4
}
