{
 "cells": [
  {
   "cell_type": "code",
   "execution_count": null,
   "metadata": {},
   "outputs": [],
   "source": [
    "from functools import partial\n",
    "\n",
    "import matplotlib.pyplot as plt\n",
    "import numpy as np\n",
    "from scipy.integrate import dblquad\n",
    "from scipy.interpolate import RegularGridInterpolator\n",
    "from tqdm.auto import tqdm\n",
    "\n",
    "from bounded_rand_walkers.cpp import (\n",
    "    bound_map,\n",
    "    funky,\n",
    "    generate_data,\n",
    "    get_binned_2D,\n",
    "    get_binned_data,\n",
    "    get_cached_filename,\n",
    ")\n",
    "from bounded_rand_walkers.data_generation import Delaunay, DelaunayArray, in_bounds\n",
    "from bounded_rand_walkers.rad_interp import (\n",
    "    exact_radii_interp,\n",
    "    inv_exact_radii_interp,\n",
    "    rotation,\n",
    ")\n",
    "from bounded_rand_walkers.relief_matrix_shaper import gen_shaper2D\n",
    "from bounded_rand_walkers.rotation_steps import get_pdf_transform_shaper\n",
    "from bounded_rand_walkers.shaper_general import (\n",
    "    gen_rad_shaper,\n",
    "    gen_rad_shaper_exact,\n",
    "    shaper_map,\n",
    ")\n",
    "from bounded_rand_walkers.utils import approx_edges, cache_dir, get_centres, normalise"
   ]
  },
  {
   "cell_type": "code",
   "execution_count": null,
   "metadata": {},
   "outputs": [],
   "source": [
    "bound_name = \"square\"\n",
    "\n",
    "vertices = bound_map[bound_name]()\n",
    "\n",
    "n_bins = 50\n",
    "f_t_x_edges = f_t_y_edges = np.linspace(-2, 2, n_bins + 1)\n",
    "f_t_x_centres = f_t_y_centres = get_centres(f_t_x_edges)\n",
    "\n",
    "order_divisions = 200  # Bump to 400 does not improve things visibly."
   ]
  },
  {
   "cell_type": "code",
   "execution_count": null,
   "metadata": {},
   "outputs": [],
   "source": [
    "raw_shaper_X, raw_shaper_Y, raw_shaper = gen_shaper2D(order_divisions, vertices)\n",
    "\n",
    "x0 = y0 = 2\n",
    "divisions_x = order_divisions\n",
    "divisions_y = divisions_x\n",
    "# divisions_y = order_divisions * int(float(y0) / float(x0))\n",
    "\n",
    "interp = RegularGridInterpolator(\n",
    "    (\n",
    "        get_centres(np.linspace(-x0, x0, divisions_x + 1)),\n",
    "        get_centres(np.linspace(-y0, y0, divisions_y + 1)),\n",
    "    ),\n",
    "    raw_shaper,\n",
    "    method=\"linear\",\n",
    "    bounds_error=False,\n",
    "    fill_value=0.0,\n",
    ")\n",
    "f_t_X_grid, f_t_Y_grid = np.meshgrid(f_t_x_centres, f_t_y_centres, indexing=\"ij\")\n",
    "interp_shaper = interp(\n",
    "    np.hstack((f_t_X_grid.ravel()[:, None], f_t_Y_grid.ravel()[:, None]))\n",
    ").reshape(f_t_X_grid.shape)"
   ]
  },
  {
   "cell_type": "code",
   "execution_count": null,
   "metadata": {},
   "outputs": [],
   "source": [
    "plt.figure()\n",
    "plt.pcolormesh(f_t_x_edges, f_t_y_edges, interp_shaper)\n",
    "plt.axis(\"scaled\")\n",
    "plt.colorbar()\n",
    "_ = plt.title(\"Gridded Shaper\")"
   ]
  },
  {
   "cell_type": "code",
   "execution_count": null,
   "metadata": {},
   "outputs": [],
   "source": [
    "# Extract shaper from 2D shaper values.\n",
    "radii, radial_shaper = exact_radii_interp(\n",
    "    interp_shaper, f_t_x_centres, f_t_y_centres, normalisation=\"multiply\"\n",
    ")\n",
    "\n",
    "# Calculate the shaper function explicitly at multiple radii.\n",
    "shaper_radii = np.linspace(np.min(radii), np.max(radii), 40)\n",
    "shaper_rad = gen_rad_shaper_exact(shaper_radii, vertices=bound_name)"
   ]
  },
  {
   "cell_type": "code",
   "execution_count": null,
   "metadata": {},
   "outputs": [],
   "source": [
    "# Extract shaper from 2D shaper values.\n",
    "radii, radial_shaper = exact_radii_interp(\n",
    "    interp_shaper, f_t_x_centres, f_t_y_centres, normalisation=\"multiply\"\n",
    ")\n",
    "\n",
    "# Calculate the shaper function explicitly at multiple radii.\n",
    "shaper_radii = np.linspace(np.min(radii), np.max(radii), 100)\n",
    "shaper_rad = gen_rad_shaper_exact(\n",
    "    shaper_radii, vertices=bound_name if bound_name in bound_map else vertices\n",
    ")"
   ]
  },
  {
   "cell_type": "code",
   "execution_count": null,
   "metadata": {},
   "outputs": [],
   "source": [
    "plt.figure()\n",
    "plt.plot(radii, normalise(radii, radial_shaper), label=\"Radially interpolated\")\n",
    "plt.plot(\n",
    "    shaper_radii,\n",
    "    normalise(shaper_radii, shaper_rad * shaper_radii),\n",
    "    label=\"Analytical\",\n",
    ")\n",
    "plt.grid(linestyle=\"--\", alpha=0.4)\n",
    "plt.legend(loc=\"best\")\n",
    "_ = plt.title(f\"Shaper - {bound_name}\")"
   ]
  }
 ],
 "metadata": {
  "kernelspec": {
   "display_name": "Python 3",
   "language": "python",
   "name": "python3"
  }
 },
 "nbformat": 4,
 "nbformat_minor": 4
}
