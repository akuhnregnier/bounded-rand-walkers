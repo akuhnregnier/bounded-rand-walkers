{
 "cells": [
  {
   "cell_type": "markdown",
   "metadata": {},
   "source": [
    "### Setup"
   ]
  },
  {
   "cell_type": "code",
   "execution_count": null,
   "metadata": {},
   "outputs": [],
   "source": [
    "import logging\n",
    "from multiprocessing import cpu_count\n",
    "\n",
    "import matplotlib.pyplot as plt\n",
    "import numpy as np\n",
    "\n",
    "from bounded_rand_walkers.data_generation import multi_random_walker\n",
    "from bounded_rand_walkers.functions import Tophat_1D, Tophat_2D\n",
    "\n",
    "logging.basicConfig(level=logging.INFO)"
   ]
  },
  {
   "cell_type": "markdown",
   "metadata": {},
   "source": [
    "### 1D Case"
   ]
  },
  {
   "cell_type": "code",
   "execution_count": null,
   "metadata": {},
   "outputs": [],
   "source": [
    "step_values, positions = multi_random_walker(\n",
    "    n_processes=cpu_count(),\n",
    "    f_i=Tophat_1D(width=0.5, centre=0.2).pdf,\n",
    "    bounds=np.array([0, 1]),\n",
    "    steps=int(1e4),\n",
    ")\n",
    "\n",
    "print(\"data shapes\")\n",
    "print((step_values.shape, positions.shape))\n",
    "\n",
    "fig, axes = plt.subplots(1, 2, squeeze=True)\n",
    "axes[0].hist(step_values, bins=\"auto\")\n",
    "axes[0].set_title(\"Step Values\")\n",
    "axes[1].hist(positions, bins=\"auto\")\n",
    "axes[1].set_title(\"Positions\")\n",
    "plt.show()"
   ]
  },
  {
   "cell_type": "markdown",
   "metadata": {},
   "source": [
    "### 2D Case"
   ]
  },
  {
   "cell_type": "code",
   "execution_count": null,
   "metadata": {},
   "outputs": [],
   "source": [
    "# bounds = np.array([\n",
    "#     [0, 0],\n",
    "#     [0, 1],\n",
    "#     [1, 1],\n",
    "#     [1, 0]],\n",
    "#     dtype=np.float64\n",
    "#     )\n",
    "bounds = np.array([[1, 0], [-1, 1], [-1, -1]])\n",
    "\n",
    "step_values, positions = multi_random_walker(\n",
    "    n_processes=4,\n",
    "    f_i=Tophat_2D(extent=1.5).pdf,\n",
    "    bounds=bounds,\n",
    "    steps=int(1e5),\n",
    "    blocks=3,\n",
    ")\n",
    "\n",
    "fig, axes = plt.subplots(1, 2, squeeze=True)\n",
    "fig.subplots_adjust(right=0.8)\n",
    "# bin first time to get the maximum bin counts,\n",
    "# which are used below\n",
    "steps_bin = axes[0].hexbin(*step_values.T)\n",
    "positions_bin = axes[1].hexbin(*positions.T)\n",
    "axes[0].cla()\n",
    "axes[1].cla()\n",
    "\n",
    "# use this max value with the hexbin vmax option\n",
    "# in order to have the same colour scaling for both\n",
    "# hexbin plots, such that the same colorbar may be used\n",
    "max_value = np.max([np.max(steps_bin.get_array()), np.max(positions_bin.get_array())])\n",
    "steps_bin = axes[0].hexbin(*step_values.T, vmin=0, vmax=max_value)\n",
    "steps_bin = axes[0].hexbin(*step_values.T, vmin=0, vmax=max_value)\n",
    "positions_bin = axes[1].hexbin(*positions.T, vmin=0, vmax=max_value)\n",
    "positions_bin = axes[1].hexbin(*positions.T, vmin=0, vmax=max_value)\n",
    "\n",
    "axes[0].set_title(\"Step Values\")\n",
    "axes[1].set_title(\"Positions\")\n",
    "for ax in axes:\n",
    "    ax.set_aspect(\"equal\")\n",
    "\n",
    "cbar_ax = fig.add_axes([0.85, 0.15, 0.02, 0.7])\n",
    "fig.colorbar(positions_bin, cax=cbar_ax)\n",
    "\n",
    "plt.show()"
   ]
  }
 ],
 "metadata": {
  "kernelspec": {
   "display_name": "Python 3",
   "language": "python",
   "name": "python3"
  }
 },
 "nbformat": 4,
 "nbformat_minor": 4
}
