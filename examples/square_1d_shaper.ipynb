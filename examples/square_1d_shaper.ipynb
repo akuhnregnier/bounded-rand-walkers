{
 "cells": [
  {
   "cell_type": "code",
   "execution_count": null,
   "metadata": {},
   "outputs": [],
   "source": [
    "from pathlib import Path\n",
    "\n",
    "import matplotlib as mpl\n",
    "import matplotlib.pyplot as plt\n",
    "\n",
    "from bounded_rand_walkers.shaper_general import square_shaper\n",
    "\n",
    "mpl.rc_file(\"matplotlibrc\")\n",
    "Path(\"plots\").mkdir(exist_ok=True)"
   ]
  },
  {
   "cell_type": "code",
   "execution_count": null,
   "metadata": {},
   "outputs": [],
   "source": [
    "xs = np.linspace(-1.2, 1.2, 1000)\n",
    "\n",
    "fig, ax = plt.subplots()\n",
    "ax.plot(xs, square_shaper(xs, np.zeros(xs.size), side_length=1))\n",
    "ax.set_aspect(2)\n",
    "ax.set_xlabel(r\"$\\ell$\")\n",
    "ax.set_ylabel(r\"$h_{\\mathrm{1D}}(\\ell)$\")\n",
    "fig.savefig((Path(\"plots\") / \"square_shaper_1d\").with_suffix(\".pdf\"))"
   ]
  }
 ],
 "metadata": {
  "kernelspec": {
   "display_name": "Python 3",
   "language": "python",
   "name": "python3"
  }
 },
 "nbformat": 4,
 "nbformat_minor": 4
}
