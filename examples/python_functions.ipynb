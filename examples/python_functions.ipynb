{
 "cells": [
  {
   "cell_type": "code",
   "execution_count": null,
   "metadata": {},
   "outputs": [],
   "source": [
    "from functools import partial\n",
    "\n",
    "import matplotlib as mpl\n",
    "import matplotlib.pyplot as plt\n",
    "import numpy as np\n",
    "\n",
    "from bounded_rand_walkers.functions import (\n",
    "    Exponential,\n",
    "    Funky,\n",
    "    Gaussian,\n",
    "    Power,\n",
    "    Tophat_1D,\n",
    "    Tophat_2D,\n",
    ")\n",
    "from bounded_rand_walkers.utils import get_centres\n",
    "\n",
    "mpl.rc_file(\"matplotlibrc\")"
   ]
  },
  {
   "cell_type": "markdown",
   "metadata": {},
   "source": [
    "### 1D case"
   ]
  },
  {
   "cell_type": "code",
   "execution_count": null,
   "metadata": {},
   "outputs": [],
   "source": [
    "pdfs_args_1D = [\n",
    "    (Tophat_1D, {\"width\": 0.7, \"centre\": 0.3}),\n",
    "    (Gaussian, {\"centre\": np.array([0.7]), \"width\": 0.3}),\n",
    "    (Power, {\"centre\": np.array([0.5]), \"exponent\": 1.0, \"binsize\": 0.5}),\n",
    "    (Exponential, {\"centre\": np.array([0.0]), \"decay_rate\": 1.0}),\n",
    "    (Funky, {\"centre\": np.array([0.5, 0.5]), \"width\": 2.0}),\n",
    "]\n",
    "\n",
    "x = np.linspace(-1, 2, 100)\n",
    "for PDFClass, kwargs in pdfs_args_1D:\n",
    "    instance = PDFClass(**kwargs)\n",
    "\n",
    "    plt.figure()\n",
    "    plt.title(PDFClass.__name__)\n",
    "    plt.plot(x, [instance.pdf(np.array([v])) for v in x])"
   ]
  },
  {
   "cell_type": "markdown",
   "metadata": {},
   "source": [
    "### 2D case"
   ]
  },
  {
   "cell_type": "code",
   "execution_count": null,
   "metadata": {},
   "outputs": [],
   "source": [
    "pdfs_args_2D = [\n",
    "    (Tophat_2D, {\"extent\": 0.7, \"x_centre\": 0.3, \"y_centre\": 0.1, \"type_2D\": 0}),\n",
    "    (Gaussian, {\"centre\": np.array((0.0, 0.5)), \"width\": 1.0}),\n",
    "    (\n",
    "        Power,\n",
    "        {\n",
    "            \"centre\": np.array((0.5, -0.5)),\n",
    "            \"exponent\": 0.2,\n",
    "            \"binsize\": 0.8,\n",
    "        },\n",
    "    ),\n",
    "    (\n",
    "        Exponential,\n",
    "        {\n",
    "            \"centre\": np.array([0.5, -0.5]),\n",
    "            \"decay_rate\": 0.5,\n",
    "        },\n",
    "    ),\n",
    "    (Funky, {\"centre\": np.array([0.5, 0.5]), \"width\": 2.0}),\n",
    "]\n",
    "\n",
    "x_edges = y_edges = np.linspace(-1, 1, 200)\n",
    "x_centres = y_centres = get_centres(x_edges)\n",
    "\n",
    "for PDFClass, kwargs in pdfs_args_2D:\n",
    "    C = np.empty((x_centres.shape[0], y_centres.shape[0]))\n",
    "    instance = PDFClass(**kwargs)\n",
    "    for i, x in enumerate(x_centres):\n",
    "        for j, y in enumerate(y_centres):\n",
    "            C[i, j] = instance.pdf(np.array([x, y]))\n",
    "\n",
    "    fig, ax = plt.subplots()\n",
    "    ax.set_title(PDFClass.__name__)\n",
    "    ax.pcolormesh(x_edges, y_edges, C)\n",
    "    ax.set_aspect(\"equal\")"
   ]
  }
 ],
 "metadata": {
  "kernelspec": {
   "display_name": "Python 3",
   "language": "python",
   "name": "python3"
  }
 },
 "nbformat": 4,
 "nbformat_minor": 4
}
