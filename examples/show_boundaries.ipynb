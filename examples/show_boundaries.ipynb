{
 "cells": [
  {
   "cell_type": "code",
   "execution_count": null,
   "metadata": {},
   "outputs": [],
   "source": [
    "import matplotlib as mpl\n",
    "import matplotlib.pyplot as plt\n",
    "\n",
    "from bounded_rand_walkers.cpp.boundaries import bound_map\n",
    "\n",
    "mpl.rc_file(\"matplotlibrc\")"
   ]
  },
  {
   "cell_type": "code",
   "execution_count": null,
   "metadata": {},
   "outputs": [],
   "source": [
    "fig, axes = plt.subplots(1, len(bound_map), sharex=True, sharey=True, figsize=(5, 3))\n",
    "for (ax, (name, vertices_func)) in zip(axes, bound_map.items()):\n",
    "    ax.set_title(name)\n",
    "    ax.plot(*vertices_func().T, marker=\"o\")\n",
    "    ax.axis(\"scaled\")\n",
    "    ax.set_xlabel(\"x\")\n",
    "_ = axes[0].set_ylabel(\"y\")"
   ]
  }
 ],
 "metadata": {
  "kernelspec": {
   "display_name": "Python 3",
   "language": "python",
   "name": "python3"
  }
 },
 "nbformat": 4,
 "nbformat_minor": 4
}
