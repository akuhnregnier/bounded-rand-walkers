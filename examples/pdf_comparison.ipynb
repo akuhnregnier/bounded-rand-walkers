{
 "cells": [
  {
   "cell_type": "code",
   "execution_count": null,
   "metadata": {},
   "outputs": [],
   "source": [
    "import matplotlib as mpl\n",
    "import matplotlib.pyplot as plt\n",
    "import numpy as np\n",
    "\n",
    "from bounded_rand_walkers.cpp import funky as cpp_funky\n",
    "from bounded_rand_walkers.functions import Funky\n",
    "\n",
    "mpl.rc_file(\"matplotlibrc\")"
   ]
  },
  {
   "cell_type": "code",
   "execution_count": null,
   "metadata": {},
   "outputs": [],
   "source": [
    "py_funky = Funky(width=2)\n",
    "\n",
    "plt.plot([py_funky.pdf(np.array([i])) for i in np.linspace(0, 2, 1000)], label=\"Python\")\n",
    "plt.plot(\n",
    "    [cpp_funky(np.array([i]), width=2) for i in np.linspace(0, 2, 1000)],\n",
    "    linestyle=\"--\",\n",
    "    label=\"C++\",\n",
    ")\n",
    "plt.title(\"\")\n",
    "_ = plt.legend(loc=\"best\")"
   ]
  }
 ],
 "metadata": {
  "kernelspec": {
   "display_name": "Python 3",
   "language": "python",
   "name": "python3"
  }
 },
 "nbformat": 4,
 "nbformat_minor": 4
}
